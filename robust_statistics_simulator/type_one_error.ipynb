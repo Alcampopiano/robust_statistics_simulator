{
 "cells": [
  {
   "cell_type": "code",
   "execution_count": 1,
   "metadata": {},
   "outputs": [],
   "source": [
    "import os\n",
    "\n",
    " # here for now to set proper path on my system, but will not be needed when underlying code is a library\n",
    "os.chdir('..')\n",
    "\n",
    "from scipy.stats import lognorm, norm,gaussian_kde,chi2\n",
    "import numpy as np\n",
    "import simulation\n",
    "import altair as alt\n",
    "import pandas as pd\n",
    "alt.data_transformers.disable_max_rows();\n",
    "\n",
    "%load_ext line_profiler"
   ]
  },
  {
   "cell_type": "markdown",
   "metadata": {},
   "source": [
    "# Population Characteristics"
   ]
  },
  {
   "cell_type": "code",
   "execution_count": 2,
   "metadata": {},
   "outputs": [
    {
     "data": {
      "application/vnd.jupyter.widget-view+json": {
       "model_id": "af550ccd9d164d9a9fc55fc5d45c16c7",
       "version_major": 2,
       "version_minor": 0
      },
      "text/plain": [
       "HBox(children=(VBox(children=(Dropdown(description='Shape', index=1, layout=Layout(width='300px'), options=('n…"
      ]
     },
     "metadata": {},
     "output_type": "display_data"
    }
   ],
   "source": [
    "simulation.population()"
   ]
  },
  {
   "cell_type": "code",
   "execution_count": 3,
   "metadata": {},
   "outputs": [
    {
     "data": {
      "application/vnd.jupyter.widget-view+json": {
       "model_id": "61a2370d78994b9e915d7a26486b3300",
       "version_major": 2,
       "version_minor": 0
      },
      "text/plain": [
       "HBox(children=(VBox(children=(IntSlider(value=30, description='Sample size', max=300, min=1), Button(descripti…"
      ]
     },
     "metadata": {},
     "output_type": "display_data"
    }
   ],
   "source": [
    "simulation.t_sampling_distribution()"
   ]
  },
  {
   "cell_type": "code",
   "execution_count": 4,
   "metadata": {},
   "outputs": [
    {
     "data": {
      "application/vnd.jupyter.widget-view+json": {
       "model_id": "92605ec62e5c40ac9093e569c1a95160",
       "version_major": 2,
       "version_minor": 0
      },
      "text/plain": [
       "HBox(children=(VBox(children=(IntSlider(value=30, description='Sample size', max=300, min=1), Button(descripti…"
      ]
     },
     "metadata": {},
     "output_type": "display_data"
    }
   ],
   "source": [
    "simulation.type_I_error()"
   ]
  },
  {
   "cell_type": "code",
   "execution_count": 5,
   "metadata": {},
   "outputs": [],
   "source": [
    "from simulation import type_I_error_widgets\n",
    "type_I_error_widgets['button'].click()"
   ]
  },
  {
   "cell_type": "code",
   "execution_count": 6,
   "metadata": {},
   "outputs": [],
   "source": [
    "from simulation import type_I_error_button_callback"
   ]
  },
  {
   "cell_type": "code",
   "execution_count": 7,
   "metadata": {},
   "outputs": [
    {
     "name": "stdout",
     "output_type": "stream",
     "text": [
      "\n",
      "*** Profile printout saved to text file 'profile_results_2.txt'. \n"
     ]
    },
    {
     "data": {
      "text/plain": [
       "Timer unit: 1e-06 s\n",
       "\n",
       "Total time: 2.76462 s\n",
       "File: /home/allan/research/projects/robust_statistics_simulator/robust_statistics_simulator/simulation.py\n",
       "Function: type_I_error_button_callback at line 380\n",
       "\n",
       "Line #      Hits         Time  Per Hit   % Time  Line Contents\n",
       "==============================================================\n",
       "   380                                           def type_I_error_button_callback(widget_info):\n",
       "   381                                           \n",
       "   382         1          3.0      3.0      0.0      dropdown = population_widget_dict['dropdown']\n",
       "   383         1          3.0      3.0      0.0      output = type_I_error_widgets['output']\n",
       "   384         1         14.0     14.0      0.0      dists = dropdown.options\n",
       "   385         1         10.0     10.0      0.0      samp_size = type_I_error_widgets['slider'].value\n",
       "   386                                               #['normal', 'lognormal', 'contaminated chi-squared', 'exponential']\n",
       "   387         1          2.0      2.0      0.0      params = [1, 1, .1, 1]\n",
       "   388                                           \n",
       "   389         1          1.0      1.0      0.0      results = []\n",
       "   390         1       2412.0   2412.0      0.1      with output:\n",
       "   391         1       1083.0   1083.0      0.0          clear_output(wait=True)\n",
       "   392                                           \n",
       "   393         5         11.0      2.2      0.0          for param, dist in zip(params, dists):\n",
       "   394         4      93281.0  23320.2      3.4              error_rate=simulate_t_type_I_error(param, dist, samp_size)\n",
       "   395         4         14.0      3.5      0.0              results.append({'dist': dist, 'error': error_rate, 'test': 't'})\n",
       "   396                                           \n",
       "   397         5         10.0      2.0      0.0          for param, dist in zip(params, dists):\n",
       "   398         4     144377.0  36094.2      5.2              error_rate = simulate_tt_type_I_error(param, dist, samp_size)\n",
       "   399         4         13.0      3.2      0.0              results.append({'dist': dist, 'error': error_rate, 'test': 'tt'})\n",
       "   400                                           \n",
       "   401         5          7.0      1.4      0.0          for param, dist in zip(params, dists):\n",
       "   402         4    2480907.0 620226.8     89.7              error_rate = simulate_pb_type_I_error(param, dist, samp_size)\n",
       "   403         4          9.0      2.2      0.0              results.append({'dist': dist, 'error': error_rate, 'test': 'pb'})\n",
       "   404                                           \n",
       "   405         1      42466.0  42466.0      1.5          display(make_type_I_error_chart(results))"
      ]
     },
     "metadata": {},
     "output_type": "display_data"
    }
   ],
   "source": [
    "%lprun -s -f type_I_error_button_callback -T profile_results_2.txt type_I_error_button_callback(None)"
   ]
  },
  {
   "cell_type": "code",
   "execution_count": 2,
   "metadata": {},
   "outputs": [],
   "source": [
    "from simulation import my_trimmed_mean\n",
    "from scipy.stats import trim_mean"
   ]
  },
  {
   "cell_type": "code",
   "execution_count": 3,
   "metadata": {},
   "outputs": [],
   "source": [
    "a=np.random.randint(1000, size=(1000, 40))"
   ]
  },
  {
   "cell_type": "code",
   "execution_count": 5,
   "metadata": {},
   "outputs": [
    {
     "name": "stdout",
     "output_type": "stream",
     "text": [
      "735 µs ± 4.31 µs per loop (mean ± std. dev. of 7 runs, 1000 loops each)\n"
     ]
    }
   ],
   "source": [
    "%timeit my_trimmed_mean(a, .2)"
   ]
  },
  {
   "cell_type": "code",
   "execution_count": 6,
   "metadata": {},
   "outputs": [
    {
     "name": "stdout",
     "output_type": "stream",
     "text": [
      "187 µs ± 532 ns per loop (mean ± std. dev. of 7 runs, 10000 loops each)\n"
     ]
    }
   ],
   "source": [
    "%timeit trim_mean(a, .2, axis=1)"
   ]
  }
 ],
 "metadata": {
  "kernelspec": {
   "display_name": "Python 3",
   "language": "python",
   "name": "python3"
  },
  "language_info": {
   "codemirror_mode": {
    "name": "ipython",
    "version": 3
   },
   "file_extension": ".py",
   "mimetype": "text/x-python",
   "name": "python",
   "nbconvert_exporter": "python",
   "pygments_lexer": "ipython3",
   "version": "3.8.3"
  }
 },
 "nbformat": 4,
 "nbformat_minor": 4
}
